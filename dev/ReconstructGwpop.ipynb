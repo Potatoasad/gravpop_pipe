{
 "cells": [
  {
   "cell_type": "code",
   "execution_count": 1,
   "id": "b39a501c-614f-4339-aa52-373e5f7b0b3c",
   "metadata": {
    "tags": []
   },
   "outputs": [],
   "source": [
    "from gravpop import *"
   ]
  },
  {
   "cell_type": "code",
   "execution_count": 2,
   "id": "ee7e83c3-fb61-449b-8235-d88842d65ff3",
   "metadata": {
    "tags": []
   },
   "outputs": [
    {
     "name": "stderr",
     "output_type": "stream",
     "text": [
      "11:00 bilby INFO    : Using SmoothedMassDistribution.\n",
      "11:00 bilby INFO    : Created SmoothedMassDistribution with arguments {'mmin': 2, 'mmax': 100}\n",
      "11:00 bilby INFO    : Using PowerLawRedshift from gwpopulation.models.redshift.\n",
      "11:00 bilby INFO    : Created gwpopulation.models.redshift.PowerLawRedshift with arguments {'z_max': 1.9}\n",
      "11:00 bilby INFO    : Using SmoothedMassDistribution.\n",
      "11:00 bilby INFO    : Created SmoothedMassDistribution with arguments {'mmin': 2, 'mmax': 100}\n",
      "11:00 bilby INFO    : Using PowerLawRedshift from gwpopulation.models.redshift.\n",
      "11:00 bilby INFO    : Created gwpopulation.models.redshift.PowerLawRedshift with arguments {'z_max': 1.9}\n",
      "11:00 bilby INFO    : Loading VT data from /Users/asadh/Downloads/o1+o2+o3_bbhpop_real+semianalytic-LIGO-T2100377-v2.hdf5.\n"
     ]
    }
   ],
   "source": [
    "gwpop = GWPopLoader(posterior_file = \"/Users/asadh/Documents/Data/posteriors.pkl\",\n",
    "                    prior_file = \"/Users/asadh/Documents/Data/production.prior\",\n",
    "                    vt_file = \"/Users/asadh/Downloads/o1+o2+o3_bbhpop_real+semianalytic-LIGO-T2100377-v2.hdf5\",\n",
    "                    enforce_minimum_neffective_per_event = \"injection_resampling_vt\")\n",
    "gwpop.load_prior();\n",
    "gwpop.load_model();\n",
    "gwpop.load_vt();\n",
    "gwpop.load_posteriors();\n",
    "gwpop.create_likelihood();"
   ]
  },
  {
   "cell_type": "code",
   "execution_count": 71,
   "id": "46ddbcff-6cfa-430a-9c93-1942389a2aab",
   "metadata": {
    "tags": []
   },
   "outputs": [
    {
     "data": {
      "text/html": [
       "<div>\n",
       "<style scoped>\n",
       "    .dataframe tbody tr th:only-of-type {\n",
       "        vertical-align: middle;\n",
       "    }\n",
       "\n",
       "    .dataframe tbody tr th {\n",
       "        vertical-align: top;\n",
       "    }\n",
       "\n",
       "    .dataframe thead th {\n",
       "        text-align: right;\n",
       "    }\n",
       "</style>\n",
       "<table border=\"1\" class=\"dataframe\">\n",
       "  <thead>\n",
       "    <tr style=\"text-align: right;\">\n",
       "      <th></th>\n",
       "      <th>alpha</th>\n",
       "      <th>beta</th>\n",
       "      <th>mmax</th>\n",
       "      <th>mmin</th>\n",
       "      <th>lam</th>\n",
       "      <th>mpp</th>\n",
       "      <th>sigpp</th>\n",
       "      <th>delta_m</th>\n",
       "      <th>mu_chi</th>\n",
       "      <th>sigma_chi</th>\n",
       "      <th>...</th>\n",
       "      <th>lamb</th>\n",
       "      <th>amax</th>\n",
       "      <th>log_likelihood</th>\n",
       "      <th>log_prior</th>\n",
       "      <th>selection</th>\n",
       "      <th>pdet_n_effective</th>\n",
       "      <th>surveyed_hypervolume</th>\n",
       "      <th>log_10_rate</th>\n",
       "      <th>rate</th>\n",
       "      <th>min_event_n_effective</th>\n",
       "    </tr>\n",
       "  </thead>\n",
       "  <tbody>\n",
       "    <tr>\n",
       "      <th>0</th>\n",
       "      <td>3.476035</td>\n",
       "      <td>1.192781</td>\n",
       "      <td>91.137635</td>\n",
       "      <td>3.335027</td>\n",
       "      <td>0.045152</td>\n",
       "      <td>32.019619</td>\n",
       "      <td>7.361617</td>\n",
       "      <td>5.502380</td>\n",
       "      <td>0.430299</td>\n",
       "      <td>0.037676</td>\n",
       "      <td>...</td>\n",
       "      <td>0.593878</td>\n",
       "      <td>1.0</td>\n",
       "      <td>86.219165</td>\n",
       "      <td>-20.158271</td>\n",
       "      <td>0.001980</td>\n",
       "      <td>5600.884717</td>\n",
       "      <td>1102.923927</td>\n",
       "      <td>1.539321</td>\n",
       "      <td>34.619495</td>\n",
       "      <td>184.210871</td>\n",
       "    </tr>\n",
       "    <tr>\n",
       "      <th>1</th>\n",
       "      <td>2.843807</td>\n",
       "      <td>0.551632</td>\n",
       "      <td>92.336309</td>\n",
       "      <td>3.455594</td>\n",
       "      <td>0.099132</td>\n",
       "      <td>21.146326</td>\n",
       "      <td>9.635711</td>\n",
       "      <td>3.504334</td>\n",
       "      <td>0.229716</td>\n",
       "      <td>0.027052</td>\n",
       "      <td>...</td>\n",
       "      <td>3.899003</td>\n",
       "      <td>1.0</td>\n",
       "      <td>88.795439</td>\n",
       "      <td>-20.158271</td>\n",
       "      <td>0.000176</td>\n",
       "      <td>7628.305892</td>\n",
       "      <td>24548.963167</td>\n",
       "      <td>1.203419</td>\n",
       "      <td>15.974191</td>\n",
       "      <td>91.831207</td>\n",
       "    </tr>\n",
       "    <tr>\n",
       "      <th>2</th>\n",
       "      <td>4.127894</td>\n",
       "      <td>1.910420</td>\n",
       "      <td>99.382743</td>\n",
       "      <td>4.114949</td>\n",
       "      <td>0.058528</td>\n",
       "      <td>26.304442</td>\n",
       "      <td>9.105968</td>\n",
       "      <td>4.430823</td>\n",
       "      <td>0.297703</td>\n",
       "      <td>0.036759</td>\n",
       "      <td>...</td>\n",
       "      <td>-0.096742</td>\n",
       "      <td>1.0</td>\n",
       "      <td>89.598445</td>\n",
       "      <td>-20.158271</td>\n",
       "      <td>0.002577</td>\n",
       "      <td>4734.966457</td>\n",
       "      <td>617.064144</td>\n",
       "      <td>1.681428</td>\n",
       "      <td>48.020645</td>\n",
       "      <td>94.982019</td>\n",
       "    </tr>\n",
       "    <tr>\n",
       "      <th>3</th>\n",
       "      <td>4.512565</td>\n",
       "      <td>1.291055</td>\n",
       "      <td>98.845047</td>\n",
       "      <td>2.963035</td>\n",
       "      <td>0.007879</td>\n",
       "      <td>32.267134</td>\n",
       "      <td>9.914114</td>\n",
       "      <td>9.800366</td>\n",
       "      <td>0.378698</td>\n",
       "      <td>0.052658</td>\n",
       "      <td>...</td>\n",
       "      <td>3.511903</td>\n",
       "      <td>1.0</td>\n",
       "      <td>90.035214</td>\n",
       "      <td>-20.158271</td>\n",
       "      <td>0.000295</td>\n",
       "      <td>5654.797132</td>\n",
       "      <td>16703.390755</td>\n",
       "      <td>1.146385</td>\n",
       "      <td>14.008291</td>\n",
       "      <td>289.936772</td>\n",
       "    </tr>\n",
       "    <tr>\n",
       "      <th>4</th>\n",
       "      <td>2.772482</td>\n",
       "      <td>0.149371</td>\n",
       "      <td>94.491001</td>\n",
       "      <td>5.138160</td>\n",
       "      <td>0.035747</td>\n",
       "      <td>30.469008</td>\n",
       "      <td>8.569162</td>\n",
       "      <td>3.361789</td>\n",
       "      <td>0.336149</td>\n",
       "      <td>0.034270</td>\n",
       "      <td>...</td>\n",
       "      <td>2.514446</td>\n",
       "      <td>1.0</td>\n",
       "      <td>90.339131</td>\n",
       "      <td>-20.158271</td>\n",
       "      <td>0.000582</td>\n",
       "      <td>8247.427572</td>\n",
       "      <td>6336.065138</td>\n",
       "      <td>1.302851</td>\n",
       "      <td>20.084052</td>\n",
       "      <td>261.964627</td>\n",
       "    </tr>\n",
       "    <tr>\n",
       "      <th>...</th>\n",
       "      <td>...</td>\n",
       "      <td>...</td>\n",
       "      <td>...</td>\n",
       "      <td>...</td>\n",
       "      <td>...</td>\n",
       "      <td>...</td>\n",
       "      <td>...</td>\n",
       "      <td>...</td>\n",
       "      <td>...</td>\n",
       "      <td>...</td>\n",
       "      <td>...</td>\n",
       "      <td>...</td>\n",
       "      <td>...</td>\n",
       "      <td>...</td>\n",
       "      <td>...</td>\n",
       "      <td>...</td>\n",
       "      <td>...</td>\n",
       "      <td>...</td>\n",
       "      <td>...</td>\n",
       "      <td>...</td>\n",
       "      <td>...</td>\n",
       "    </tr>\n",
       "    <tr>\n",
       "      <th>11179</th>\n",
       "      <td>3.388853</td>\n",
       "      <td>1.075150</td>\n",
       "      <td>89.768520</td>\n",
       "      <td>4.684262</td>\n",
       "      <td>0.030388</td>\n",
       "      <td>35.727936</td>\n",
       "      <td>3.478996</td>\n",
       "      <td>5.246642</td>\n",
       "      <td>0.244086</td>\n",
       "      <td>0.027675</td>\n",
       "      <td>...</td>\n",
       "      <td>2.733047</td>\n",
       "      <td>1.0</td>\n",
       "      <td>107.871029</td>\n",
       "      <td>-20.158271</td>\n",
       "      <td>0.000525</td>\n",
       "      <td>3796.539977</td>\n",
       "      <td>7811.787060</td>\n",
       "      <td>1.235183</td>\n",
       "      <td>17.186329</td>\n",
       "      <td>71.639539</td>\n",
       "    </tr>\n",
       "    <tr>\n",
       "      <th>11180</th>\n",
       "      <td>3.684463</td>\n",
       "      <td>1.539779</td>\n",
       "      <td>81.785901</td>\n",
       "      <td>5.327478</td>\n",
       "      <td>0.030328</td>\n",
       "      <td>34.102957</td>\n",
       "      <td>3.505780</td>\n",
       "      <td>5.133147</td>\n",
       "      <td>0.251205</td>\n",
       "      <td>0.033394</td>\n",
       "      <td>...</td>\n",
       "      <td>3.171738</td>\n",
       "      <td>1.0</td>\n",
       "      <td>107.877236</td>\n",
       "      <td>-20.158271</td>\n",
       "      <td>0.000377</td>\n",
       "      <td>4006.532961</td>\n",
       "      <td>11954.783380</td>\n",
       "      <td>1.175202</td>\n",
       "      <td>14.969305</td>\n",
       "      <td>72.109121</td>\n",
       "    </tr>\n",
       "    <tr>\n",
       "      <th>11181</th>\n",
       "      <td>3.684463</td>\n",
       "      <td>1.539779</td>\n",
       "      <td>81.785901</td>\n",
       "      <td>5.327478</td>\n",
       "      <td>0.030328</td>\n",
       "      <td>34.102957</td>\n",
       "      <td>3.505780</td>\n",
       "      <td>5.133147</td>\n",
       "      <td>0.251205</td>\n",
       "      <td>0.033394</td>\n",
       "      <td>...</td>\n",
       "      <td>3.171738</td>\n",
       "      <td>1.0</td>\n",
       "      <td>107.877236</td>\n",
       "      <td>-20.158271</td>\n",
       "      <td>0.000377</td>\n",
       "      <td>4006.532961</td>\n",
       "      <td>11954.783380</td>\n",
       "      <td>1.169904</td>\n",
       "      <td>14.787819</td>\n",
       "      <td>72.109121</td>\n",
       "    </tr>\n",
       "    <tr>\n",
       "      <th>11182</th>\n",
       "      <td>3.573136</td>\n",
       "      <td>0.627634</td>\n",
       "      <td>88.689645</td>\n",
       "      <td>5.303211</td>\n",
       "      <td>0.029184</td>\n",
       "      <td>34.600418</td>\n",
       "      <td>3.531467</td>\n",
       "      <td>4.342366</td>\n",
       "      <td>0.229689</td>\n",
       "      <td>0.032670</td>\n",
       "      <td>...</td>\n",
       "      <td>3.456785</td>\n",
       "      <td>1.0</td>\n",
       "      <td>107.909312</td>\n",
       "      <td>-20.158271</td>\n",
       "      <td>0.000266</td>\n",
       "      <td>3745.787380</td>\n",
       "      <td>15818.169705</td>\n",
       "      <td>1.239911</td>\n",
       "      <td>17.374440</td>\n",
       "      <td>73.194989</td>\n",
       "    </tr>\n",
       "    <tr>\n",
       "      <th>11183</th>\n",
       "      <td>3.573136</td>\n",
       "      <td>0.627634</td>\n",
       "      <td>88.689645</td>\n",
       "      <td>5.303211</td>\n",
       "      <td>0.029184</td>\n",
       "      <td>34.600418</td>\n",
       "      <td>3.531467</td>\n",
       "      <td>4.342366</td>\n",
       "      <td>0.229689</td>\n",
       "      <td>0.032670</td>\n",
       "      <td>...</td>\n",
       "      <td>3.456785</td>\n",
       "      <td>1.0</td>\n",
       "      <td>107.909312</td>\n",
       "      <td>-20.158271</td>\n",
       "      <td>0.000266</td>\n",
       "      <td>3745.787380</td>\n",
       "      <td>15818.169705</td>\n",
       "      <td>1.110645</td>\n",
       "      <td>12.901634</td>\n",
       "      <td>73.194989</td>\n",
       "    </tr>\n",
       "  </tbody>\n",
       "</table>\n",
       "<p>11184 rows × 22 columns</p>\n",
       "</div>"
      ],
      "text/plain": [
       "          alpha      beta       mmax      mmin       lam        mpp     sigpp  \\\n",
       "0      3.476035  1.192781  91.137635  3.335027  0.045152  32.019619  7.361617   \n",
       "1      2.843807  0.551632  92.336309  3.455594  0.099132  21.146326  9.635711   \n",
       "2      4.127894  1.910420  99.382743  4.114949  0.058528  26.304442  9.105968   \n",
       "3      4.512565  1.291055  98.845047  2.963035  0.007879  32.267134  9.914114   \n",
       "4      2.772482  0.149371  94.491001  5.138160  0.035747  30.469008  8.569162   \n",
       "...         ...       ...        ...       ...       ...        ...       ...   \n",
       "11179  3.388853  1.075150  89.768520  4.684262  0.030388  35.727936  3.478996   \n",
       "11180  3.684463  1.539779  81.785901  5.327478  0.030328  34.102957  3.505780   \n",
       "11181  3.684463  1.539779  81.785901  5.327478  0.030328  34.102957  3.505780   \n",
       "11182  3.573136  0.627634  88.689645  5.303211  0.029184  34.600418  3.531467   \n",
       "11183  3.573136  0.627634  88.689645  5.303211  0.029184  34.600418  3.531467   \n",
       "\n",
       "        delta_m    mu_chi  sigma_chi  ...      lamb  amax  log_likelihood  \\\n",
       "0      5.502380  0.430299   0.037676  ...  0.593878   1.0       86.219165   \n",
       "1      3.504334  0.229716   0.027052  ...  3.899003   1.0       88.795439   \n",
       "2      4.430823  0.297703   0.036759  ... -0.096742   1.0       89.598445   \n",
       "3      9.800366  0.378698   0.052658  ...  3.511903   1.0       90.035214   \n",
       "4      3.361789  0.336149   0.034270  ...  2.514446   1.0       90.339131   \n",
       "...         ...       ...        ...  ...       ...   ...             ...   \n",
       "11179  5.246642  0.244086   0.027675  ...  2.733047   1.0      107.871029   \n",
       "11180  5.133147  0.251205   0.033394  ...  3.171738   1.0      107.877236   \n",
       "11181  5.133147  0.251205   0.033394  ...  3.171738   1.0      107.877236   \n",
       "11182  4.342366  0.229689   0.032670  ...  3.456785   1.0      107.909312   \n",
       "11183  4.342366  0.229689   0.032670  ...  3.456785   1.0      107.909312   \n",
       "\n",
       "       log_prior  selection  pdet_n_effective  surveyed_hypervolume  \\\n",
       "0     -20.158271   0.001980       5600.884717           1102.923927   \n",
       "1     -20.158271   0.000176       7628.305892          24548.963167   \n",
       "2     -20.158271   0.002577       4734.966457            617.064144   \n",
       "3     -20.158271   0.000295       5654.797132          16703.390755   \n",
       "4     -20.158271   0.000582       8247.427572           6336.065138   \n",
       "...          ...        ...               ...                   ...   \n",
       "11179 -20.158271   0.000525       3796.539977           7811.787060   \n",
       "11180 -20.158271   0.000377       4006.532961          11954.783380   \n",
       "11181 -20.158271   0.000377       4006.532961          11954.783380   \n",
       "11182 -20.158271   0.000266       3745.787380          15818.169705   \n",
       "11183 -20.158271   0.000266       3745.787380          15818.169705   \n",
       "\n",
       "       log_10_rate       rate  min_event_n_effective  \n",
       "0         1.539321  34.619495             184.210871  \n",
       "1         1.203419  15.974191              91.831207  \n",
       "2         1.681428  48.020645              94.982019  \n",
       "3         1.146385  14.008291             289.936772  \n",
       "4         1.302851  20.084052             261.964627  \n",
       "...            ...        ...                    ...  \n",
       "11179     1.235183  17.186329              71.639539  \n",
       "11180     1.175202  14.969305              72.109121  \n",
       "11181     1.169904  14.787819              72.109121  \n",
       "11182     1.239911  17.374440              73.194989  \n",
       "11183     1.110645  12.901634              73.194989  \n",
       "\n",
       "[11184 rows x 22 columns]"
      ]
     },
     "execution_count": 71,
     "metadata": {},
     "output_type": "execute_result"
    }
   ],
   "source": [
    "from gwpopulation.models.redshift import PowerLawRedshift\n",
    "from bilby.core.result import read_in_result\n",
    "from scipy.interpolate import interp1d\n",
    "import numpy as np\n",
    "import deepdish as dd\n",
    "import matplotlib.pyplot as plt\n",
    "\n",
    "PP_path = '/Users/asadh/Documents/Data/analyses/PowerLawPeak/o1o2o3_mass_c_iid_mag_iid_tilt_powerlaw_redshift_result.json'\n",
    "PP_result = read_in_result(PP_path)\n",
    "\n",
    "PP_hyperposterior_samples = PP_result.posterior.copy() # making a copy is best practice here so you don't accidentally modify things in-place\n",
    "PP_hyperposterior_samples"
   ]
  },
  {
   "cell_type": "code",
   "execution_count": 72,
   "id": "0a8a863f-0c81-4223-b202-f623ca3e17c9",
   "metadata": {
    "tags": []
   },
   "outputs": [
    {
     "data": {
      "text/plain": [
       "-1.7976931348623157e+308"
      ]
     },
     "execution_count": 72,
     "metadata": {},
     "output_type": "execute_result"
    }
   ],
   "source": [
    "cols = ['alpha','beta','mmax','mmin','lam','mpp','sigpp','delta_m','lamb']\n",
    "param = PP_hyperposterior_samples[cols].iloc[0,:].to_dict()\n",
    "\n",
    "gwpop.likelihood.parameters.update(param)\n",
    "gwpop.likelihood.log_likelihood_ratio()"
   ]
  },
  {
   "cell_type": "code",
   "execution_count": 75,
   "id": "4f4b7eca-189b-4c88-a50f-917058a1e1ec",
   "metadata": {
    "tags": []
   },
   "outputs": [
    {
     "data": {
      "text/plain": [
       "Array(324.4489, dtype=float32)"
      ]
     },
     "execution_count": 75,
     "metadata": {},
     "output_type": "execute_result"
    }
   ],
   "source": [
    "gwpop.likelihood.parameters.update(param)\n",
    "jnp.min(gwpop.likelihood.per_event_bayes_factors_and_n_effective_and_variances()[1])"
   ]
  },
  {
   "cell_type": "code",
   "execution_count": 5,
   "id": "c74717a2-06ea-4451-93c6-5acee4cac09e",
   "metadata": {
    "tags": []
   },
   "outputs": [
    {
     "data": {
      "text/plain": [
       "array([[1.81946419e-02, 2.05055871e-02, 8.39644874e-03, ...,\n",
       "        1.24354022e-02, 1.51105668e-02, 6.39469672e-03],\n",
       "       [7.21595262e-03, 6.76803039e-03, 2.82002383e-01, ...,\n",
       "        4.25122925e-03, 1.86779676e-01, 7.86951213e-03],\n",
       "       [1.34137718e-02, 7.62464422e-03, 6.88927795e-03, ...,\n",
       "        1.90680942e-02, 1.60372877e-02, 1.80551872e-02],\n",
       "       ...,\n",
       "       [9.71181743e-03, 1.11598984e-02, 1.60799699e-02, ...,\n",
       "        1.11493628e-02, 1.59525600e-02, 1.32437229e-02],\n",
       "       [5.94310159e-03, 9.23066772e-03, 5.28777518e-03, ...,\n",
       "        5.74732560e-05, 1.18276542e-03, 4.37294227e-03],\n",
       "       [1.84042269e-02, 1.31857000e-02, 1.30101194e-02, ...,\n",
       "        4.62215738e-03, 8.08583980e-03, 3.41295212e-04]])"
      ]
     },
     "execution_count": 5,
     "metadata": {},
     "output_type": "execute_result"
    }
   ],
   "source": [
    "mass_vars = ['alpha','beta','mmax','mmin','lam','mpp','sigpp','delta_m']\n",
    "redshift_vars = ['lamb']\n",
    "\n",
    "data = gwpop.likelihood.data\n",
    "\n",
    "gwpop.likelihood.hyper_prior.models[0](data, **{k:v for k,v in param.items() if k in mass_vars})"
   ]
  },
  {
   "cell_type": "code",
   "execution_count": 6,
   "id": "7ca28af2-14e0-4535-9dfa-fbe32ca248a3",
   "metadata": {
    "tags": []
   },
   "outputs": [],
   "source": [
    "param2 = param.copy()\n",
    "param2['sigpp'] = 1.0"
   ]
  },
  {
   "cell_type": "code",
   "execution_count": 12,
   "id": "b14f05a8-df8e-4355-9fbb-872efde99cc8",
   "metadata": {
    "tags": []
   },
   "outputs": [],
   "source": [
    "data = gwpop.likelihood.data.copy()\n",
    "data['prior'] = gwpop.likelihood.sampling_prior"
   ]
  },
  {
   "cell_type": "code",
   "execution_count": 13,
   "id": "aa2ae1af-88d6-4dd2-ab9a-5f81caf77c80",
   "metadata": {
    "tags": []
   },
   "outputs": [],
   "source": [
    "import gravpop\n",
    "\n",
    "SM = SmoothedTwoComponentPrimaryMassRatio(primary_mass_name='mass_1')\n",
    "R = gravpop.PowerLawRedshift(z_max=1.9)\n",
    "\n",
    "selection_data = {k:v for k,v in gwpop.selection.data.items()}\n",
    "\n",
    "HL = PopulationLikelihood(models=[SM,R], \n",
    "                         event_data=data,\n",
    "                         selection_data=selection_data,\n",
    "                         analysis_time=selection_data['analysis_time'],\n",
    "                         total_generated=selection_data['total_generated'])\n",
    "#loglikes = HL.sampled_compute_log_weights(selection_data, param2)\n",
    "#HL.compute_selection_N_eff(loglikes, N=HL.selection_data.total_generated)[0]\n",
    "#HL.compute_selection_N_eff(loglikes)"
   ]
  },
  {
   "cell_type": "code",
   "execution_count": 77,
   "id": "fa95c07c-8aba-40a8-9a04-5977e71a71f1",
   "metadata": {
    "tags": []
   },
   "outputs": [
    {
     "ename": "NameError",
     "evalue": "name 'HP' is not defined",
     "output_type": "error",
     "traceback": [
      "\u001b[0;31m---------------------------------------------------------------------------\u001b[0m",
      "\u001b[0;31mNameError\u001b[0m                                 Traceback (most recent call last)",
      "Cell \u001b[0;32mIn[77], line 1\u001b[0m\n\u001b[0;32m----> 1\u001b[0m HP\n",
      "\u001b[0;31mNameError\u001b[0m: name 'HP' is not defined"
     ]
    }
   ],
   "source": [
    "HP"
   ]
  },
  {
   "cell_type": "code",
   "execution_count": 14,
   "id": "06594820-89d1-45b2-8790-8d5960387441",
   "metadata": {
    "tags": []
   },
   "outputs": [
    {
     "data": {
      "text/plain": [
       "3980.7235257324546"
      ]
     },
     "execution_count": 14,
     "metadata": {},
     "output_type": "execute_result"
    }
   ],
   "source": [
    "aa = gwpop.selection.detection_efficiency(param2)\n",
    "aa[0]**2 / aa[1]"
   ]
  },
  {
   "cell_type": "code",
   "execution_count": 15,
   "id": "3a1eb1a9-f199-44d3-87a7-80f38fc269c3",
   "metadata": {
    "tags": []
   },
   "outputs": [
    {
     "data": {
      "text/plain": [
       "{'mpp': 32.01961882574348,\n",
       " 'alpha': 3.476035201127745,\n",
       " 'delta_m': 5.502380007170098,\n",
       " 'mmin': 3.3350270645371465,\n",
       " 'mmax': 91.13763545839001,\n",
       " 'beta': 1.1927812704856988,\n",
       " 'lam': 0.7,\n",
       " 'sigpp': 1.0}"
      ]
     },
     "execution_count": 15,
     "metadata": {},
     "output_type": "execute_result"
    }
   ],
   "source": [
    "param3 = param2.copy()\n",
    "param3['lam'] = 0.7\n",
    "gwpop.likelihood.hyper_prior.parameters.update(param3)\n",
    "gwpop.likelihood.hyper_prior._get_function_parameters(gwpop.likelihood.hyper_prior.models[0])"
   ]
  },
  {
   "cell_type": "code",
   "execution_count": 16,
   "id": "5e69e472-4713-4eb7-8d55-72c789ee1fd3",
   "metadata": {
    "tags": []
   },
   "outputs": [
    {
     "data": {
      "text/plain": [
       "array([[3.71563614e+00, 3.62272878e-01, 3.54235391e-04, ...,\n",
       "        1.72580650e-02, 1.87694364e-01, 2.39300490e-04],\n",
       "       [2.02517014e-02, 2.02208607e-02, 1.38753518e+00, ...,\n",
       "        1.24046758e-02, 8.39746952e-01, 2.36644036e-02],\n",
       "       [1.94026722e+00, 4.99522627e-04, 4.78471456e-04, ...,\n",
       "        4.28943170e-03, 5.26447224e+00, 7.96469814e-01],\n",
       "       ...,\n",
       "       [6.15355024e-05, 3.96908741e-03, 1.55051527e-04, ...,\n",
       "        1.18182751e-04, 3.87426508e-01, 4.35388223e-02],\n",
       "       [9.65964894e-06, 3.06704113e-05, 1.03129960e-05, ...,\n",
       "        3.91120643e-06, 4.17631130e-06, 5.91948398e-06],\n",
       "       [2.36815439e-01, 2.21666509e-03, 1.56500053e-03, ...,\n",
       "        8.18230522e-05, 1.53469944e-04, 1.57758006e-05]])"
      ]
     },
     "execution_count": 16,
     "metadata": {},
     "output_type": "execute_result"
    }
   ],
   "source": [
    "gwpop.likelihood.hyper_prior.prob(gwpop.likelihood.data) / gwpop.likelihood.sampling_prior"
   ]
  },
  {
   "cell_type": "code",
   "execution_count": 19,
   "id": "feb7d3e7-bafc-4089-ba11-3bf4cad0da34",
   "metadata": {
    "tags": []
   },
   "outputs": [
    {
     "data": {
      "text/plain": [
       "array([[1.12010654e-01, 1.36991214e-02, 6.56799418e-04, ...,\n",
       "        1.51106515e-03, 4.74131967e-03, 5.27287030e-04],\n",
       "       [7.02995368e-03, 6.55051144e-03, 2.81732178e-01, ...,\n",
       "        4.04060950e-03, 1.86511621e-01, 7.65485152e-03],\n",
       "       [4.14229042e-02, 5.99528987e-04, 5.52129283e-04, ...,\n",
       "        3.86075058e-03, 1.07684514e-01, 1.44362384e-02],\n",
       "       ...,\n",
       "       [7.62483914e-04, 2.29716668e-03, 2.99385328e-03, ...,\n",
       "        8.75516814e-04, 4.75705049e-02, 2.26553830e-02],\n",
       "       [5.83067229e-04, 8.30573251e-04, 5.24800124e-04, ...,\n",
       "        5.48342757e-05, 2.38250644e-04, 5.74924981e-04],\n",
       "       [2.72045855e-02, 1.41262710e-03, 1.16132960e-03, ...,\n",
       "        4.98834154e-04, 6.67044482e-04, 1.37018145e-04]])"
      ]
     },
     "execution_count": 19,
     "metadata": {},
     "output_type": "execute_result"
    }
   ],
   "source": [
    "gwpop.likelihood.hyper_prior.parameters.update(param2)\n",
    "gwpop.likelihood.hyper_prior.models[0](gwpop.likelihood.data, **gwpop.likelihood.hyper_prior._get_function_parameters(gwpop.likelihood.hyper_prior.models[0]))"
   ]
  },
  {
   "cell_type": "code",
   "execution_count": 20,
   "id": "67022839-1321-4cf1-aa5c-630a650715a3",
   "metadata": {
    "tags": []
   },
   "outputs": [
    {
     "data": {
      "text/plain": [
       "Array([[1.1201065e-01, 1.3699093e-02, 6.5679953e-04, ..., 1.5110649e-03,\n",
       "        4.7413148e-03, 5.2728702e-04],\n",
       "       [7.0299748e-03, 6.5505351e-03, 2.8173578e-01, ..., 4.0406282e-03,\n",
       "        1.8651988e-01, 7.6548769e-03],\n",
       "       [4.1422922e-02, 5.9952919e-04, 5.5212923e-04, ..., 3.8607507e-03,\n",
       "        1.0768453e-01, 1.4436220e-02],\n",
       "       ...,\n",
       "       [7.6248380e-04, 2.2971611e-03, 2.9938542e-03, ..., 8.7551714e-04,\n",
       "        4.7570460e-02, 2.2655357e-02],\n",
       "       [5.8306742e-04, 8.3057344e-04, 5.2480015e-04, ..., 5.4834287e-05,\n",
       "        2.3825066e-04, 5.7492510e-04],\n",
       "       [2.7204657e-02, 1.4126274e-03, 1.1613298e-03, ..., 4.9883430e-04,\n",
       "        6.6704483e-04, 1.3701816e-04]], dtype=float32)"
      ]
     },
     "execution_count": 20,
     "metadata": {},
     "output_type": "execute_result"
    }
   ],
   "source": [
    "HL.models[0](HL.event_data, param2)"
   ]
  },
  {
   "cell_type": "code",
   "execution_count": 21,
   "id": "8b1ba459-fb02-4697-b92c-752144744e55",
   "metadata": {
    "tags": []
   },
   "outputs": [
    {
     "data": {
      "text/plain": [
       "array([[8.85424270e-03, 1.25064650e-03, 5.92749905e-05, ...,\n",
       "        1.03774925e-04, 1.04443856e-04, 5.55856667e-05],\n",
       "       [1.17136351e-04, 7.23507156e-05, 2.97600853e-03, ...,\n",
       "        3.47438744e-05, 2.30413104e-03, 9.25075418e-05],\n",
       "       [1.39044518e-03, 2.18480329e-05, 1.70780932e-05, ...,\n",
       "        1.61237619e-04, 3.72980922e-03, 2.61483597e-04],\n",
       "       ...,\n",
       "       [3.38919815e-04, 1.20804254e-03, 1.79070805e-03, ...,\n",
       "        2.96759651e-04, 1.57869879e-02, 1.34073290e-02],\n",
       "       [4.03637078e-04, 4.78905244e-04, 3.51511678e-04, ...,\n",
       "        2.04808771e-05, 1.59462971e-04, 4.23928886e-04],\n",
       "       [8.00893145e-03, 5.30866192e-04, 2.92745761e-04, ...,\n",
       "        1.36042078e-04, 1.48582743e-04, 4.22660206e-05]])"
      ]
     },
     "execution_count": 21,
     "metadata": {},
     "output_type": "execute_result"
    }
   ],
   "source": [
    "gwpop.likelihood.parameters.update(param2)\n",
    "gwpop.likelihood.hyper_prior.prob(gwpop.likelihood.data, **param2)"
   ]
  },
  {
   "cell_type": "code",
   "execution_count": 22,
   "id": "0971af48-9d1d-4046-8a45-976521100f31",
   "metadata": {
    "tags": []
   },
   "outputs": [
    {
     "data": {
      "text/plain": [
       "Array([[8.85415077e-03, 1.25064712e-03, 5.92755168e-05, ...,\n",
       "        1.03774124e-04, 1.04445360e-04, 5.55860752e-05],\n",
       "       [1.17146730e-04, 7.23456396e-05, 2.97558913e-03, ...,\n",
       "        3.47504501e-05, 2.30393792e-03, 9.25166896e-05],\n",
       "       [1.39040116e-03, 2.18474488e-05, 1.70775857e-05, ...,\n",
       "        1.61237025e-04, 3.72968451e-03, 2.61501467e-04],\n",
       "       ...,\n",
       "       [3.38919839e-04, 1.20803982e-03, 1.79070851e-03, ...,\n",
       "        2.96759768e-04, 1.57869775e-02, 1.34073095e-02],\n",
       "       [4.03637328e-04, 4.78905538e-04, 3.51511728e-04, ...,\n",
       "        2.04808839e-05, 1.59463016e-04, 4.23928926e-04],\n",
       "       [8.00895412e-03, 5.30866324e-04, 2.92746001e-04, ...,\n",
       "        1.36042101e-04, 1.48582985e-04, 4.22660232e-05]], dtype=float32)"
      ]
     },
     "execution_count": 22,
     "metadata": {},
     "output_type": "execute_result"
    }
   ],
   "source": [
    "HL.models[0](gwpop.likelihood.data, param2) * HL.models[1](gwpop.likelihood.data, param2)"
   ]
  },
  {
   "cell_type": "code",
   "execution_count": 23,
   "id": "0a437e01-3916-4700-8726-2589d49dd99f",
   "metadata": {
    "tags": []
   },
   "outputs": [
    {
     "data": {
      "text/plain": [
       "Array([ -1.9919136 ,   1.2934306 ,  -1.1601865 ,  -7.8853173 ,\n",
       "        -1.6516606 ,   0.1774375 ,  -2.0637631 ,  -3.9015913 ,\n",
       "        -2.8131306 ,  -1.9155035 ,  -1.6703235 ,  -2.2714005 ,\n",
       "        -3.5980635 ,  -3.5531743 ,  -9.214896  ,  -6.17375   ,\n",
       "        -9.367379  ,   0.45200068,  -7.569106  ,   0.53003126,\n",
       "        -2.3585792 ,  -4.25607   , -10.18944   ,  -4.9288163 ,\n",
       "        -2.7783163 ,  -4.080309  ,  -4.9802985 ,  -7.4817357 ,\n",
       "        -1.8770456 ,  -4.009459  ,  -3.3439732 ,  -9.965057  ,\n",
       "        -3.29976   ,  -3.4320524 ,  -4.682404  ,   0.23335826,\n",
       "        -0.11446601,  -5.9797945 ,  -5.4353185 ,  -2.560652  ,\n",
       "       -11.838063  ,  -8.565896  ,   0.31696725,   1.8574107 ,\n",
       "        -7.718902  ,  -3.7707994 ,   0.5774144 ,   0.52590585,\n",
       "         0.8139755 ,   0.27017716,  -2.0783064 ,   0.9477345 ,\n",
       "        -3.2077818 ,  -8.479487  ,  -5.808269  ,  -5.5423317 ,\n",
       "        -6.8291144 ,   1.5954273 ,  -3.724963  ,  -5.438617  ,\n",
       "        -0.3764935 ,  -8.136147  ,  -1.6700652 ,  -1.402754  ,\n",
       "        -2.360578  ,  -4.097853  ,  -3.846757  ,  -7.5377316 ,\n",
       "        -3.5456016 ], dtype=float32)"
      ]
     },
     "execution_count": 23,
     "metadata": {},
     "output_type": "execute_result"
    }
   ],
   "source": [
    "#jnp.log(gwpop.likelihood.per_event_bayes_factors_and_n_effective()[0])\n",
    "gwpop.likelihood.parameters.update(param2)\n",
    "jnp.log(jnp.sum((gwpop.likelihood.hyper_prior.prob(gwpop.likelihood.data) / gwpop.likelihood.sampling_prior), axis=-1) / gwpop.likelihood.samples_per_posterior )"
   ]
  },
  {
   "cell_type": "code",
   "execution_count": 24,
   "id": "bb9ce819-0742-4079-98b8-5ad340a87ce8",
   "metadata": {
    "tags": []
   },
   "outputs": [
    {
     "data": {
      "text/plain": [
       "Array([ -1.9919138 ,   1.2934647 ,  -1.1601839 ,  -7.885317  ,\n",
       "        -1.6516619 ,   0.1774559 ,  -2.0637622 ,  -3.9015903 ,\n",
       "        -2.81313   ,  -1.9155025 ,  -1.6703205 ,  -2.2713995 ,\n",
       "        -3.5980616 ,  -3.553173  ,  -9.214895  ,  -6.173749  ,\n",
       "        -9.367378  ,   0.45204926,  -7.569105  ,   0.5300522 ,\n",
       "        -2.3585787 ,  -4.256069  , -10.18944   ,  -4.928816  ,\n",
       "        -2.7783155 ,  -4.080308  ,  -4.980298  ,  -7.481735  ,\n",
       "        -1.8770442 ,  -4.0094585 ,  -3.3439717 ,  -9.965057  ,\n",
       "        -3.2997594 ,  -3.4320517 ,  -4.682403  ,   0.23337555,\n",
       "        -0.11444712,  -5.9797935 ,  -5.435318  ,  -2.5606503 ,\n",
       "       -11.838062  ,  -8.565895  ,   0.316988  ,   1.8574162 ,\n",
       "        -7.7189016 ,  -3.7707992 ,   0.5774498 ,   0.5259247 ,\n",
       "         0.8139992 ,   0.27020264,  -2.0783057 ,   0.94778633,\n",
       "        -3.2077813 ,  -8.479486  ,  -5.8082685 ,  -5.5423307 ,\n",
       "        -6.829114  ,   1.5954771 ,  -3.7249618 ,  -5.4386163 ,\n",
       "        -0.3764758 ,  -8.136146  ,  -1.6700644 ,  -1.4027534 ,\n",
       "        -2.3605757 ,  -4.0978527 ,  -3.846756  ,  -7.537731  ,\n",
       "        -3.545601  ], dtype=float32)"
      ]
     },
     "execution_count": 24,
     "metadata": {},
     "output_type": "execute_result"
    }
   ],
   "source": [
    "HL.sampled_event_bayes_factors(HL.event_data, param2)"
   ]
  },
  {
   "cell_type": "code",
   "execution_count": null,
   "id": "fb97c9dd-a781-41aa-8c76-a147cdbd01f4",
   "metadata": {},
   "outputs": [],
   "source": [
    "PopulationLikelihood.from_file()"
   ]
  },
  {
   "cell_type": "code",
   "execution_count": 26,
   "id": "c1880be8-4c32-4946-a469-178d788178e2",
   "metadata": {
    "tags": []
   },
   "outputs": [
    {
     "data": {
      "text/plain": [
       "{'mass_1': array([17.39769745, 27.59049225, 34.87878799, ..., 45.73864544,\n",
       "        51.90734739, 35.8333281 ]),\n",
       " 'mass_ratio': array([0.89051247, 0.88072689, 0.98982847, ..., 0.98976494, 0.87312348,\n",
       "        0.90983453]),\n",
       " 'a_1': array([0.66609327, 0.77165711, 0.41970315, ..., 0.45309051, 0.00470902,\n",
       "        0.48066029]),\n",
       " 'a_2': array([0.84130038, 0.26786459, 0.2287109 , ..., 0.9919398 , 0.44948848,\n",
       "        0.93711565]),\n",
       " 'cos_tilt_1': array([-0.37940198, -0.17241716,  0.21326955, ..., -0.17223099,\n",
       "        -0.56725815, -0.16667346]),\n",
       " 'cos_tilt_2': array([ 0.38100872,  0.5378555 , -0.14621086, ..., -0.1658206 ,\n",
       "         0.80703564, -0.1641033 ]),\n",
       " 'redshift': array([0.19250949, 0.3339659 , 0.98206556, ..., 0.29160039, 0.12487546,\n",
       "        0.33013271]),\n",
       " 'prior': array([1.09751025e-04, 9.41494849e-05, 2.51845033e-04, ...,\n",
       "        3.36005874e-05, 2.40199909e-06, 8.27588353e-05]),\n",
       " 'total_generated': 73280198,\n",
       " 'analysis_time': 2.000455579638502}"
      ]
     },
     "execution_count": 26,
     "metadata": {},
     "output_type": "execute_result"
    }
   ],
   "source": [
    "{k:v for k,v in gwpop.selection.data.items()}"
   ]
  },
  {
   "cell_type": "code",
   "execution_count": 20,
   "id": "6845f4a7-1311-4e69-bf25-8268326f8d6a",
   "metadata": {
    "tags": []
   },
   "outputs": [],
   "source": [
    "import inspect\n",
    "inspect_it = lambda x: print(inspect.getsource(x))"
   ]
  },
  {
   "cell_type": "code",
   "execution_count": 33,
   "id": "6e387899-5e25-4fee-b80c-cfe88e9d641a",
   "metadata": {
    "tags": []
   },
   "outputs": [
    {
     "name": "stdout",
     "output_type": "stream",
     "text": [
      "    def sampled_compute_log_weights(self, data, params):\n",
      "        return sum(self.log(model(data, params)) for model in self.models) - self.log(data[\"prior\"])\n",
      "\n"
     ]
    }
   ],
   "source": [
    "inspect_it(HL.sampled_compute_log_weights)"
   ]
  },
  {
   "cell_type": "code",
   "execution_count": 96,
   "id": "912c1bd2-6a40-415e-be77-b06af893c261",
   "metadata": {
    "tags": []
   },
   "outputs": [
    {
     "name": "stdout",
     "output_type": "stream",
     "text": [
      "    def per_event_bayes_factors_and_n_effective_and_variances(self):\n",
      "        \"\"\"\n",
      "        Called by `_compute_per_event_ln_bayes_factors` to compute the\n",
      "        per event BFs, effective number of samples for each event's computed\n",
      "        BF, and the associated uncertainty (variance) in the *ln* BF. Computes\n",
      "        same qunatities as superclass function `_compute_per_event_ln_bayes_factors`\n",
      "        but additionally provides the effective sample size.\n",
      "\n",
      "        Returns\n",
      "        -------\n",
      "        per_event_bfs: array-like\n",
      "            The BF per event, computed by reweighting single-event likelihood\n",
      "            samples into the `hyper_prior` model.\n",
      "        n_effectives: array-like\n",
      "            The effective sample size for each Monte Carlo sum computation of the BFs.\n",
      "            The BF is computed for each event, so this array has length n_events.\n",
      "        variance: array-like\n",
      "            The variances (uncertainties) in the ln BF per event.\n",
      "        \"\"\"\n",
      "        weights = self.hyper_prior.prob(self.data) / self.sampling_prior\n",
      "        per_event_bfs = xp.sum(weights, axis=-1)\n",
      "        n_effectives = xp.nan_to_num(per_event_bfs**2 / xp.sum(weights**2, axis=-1))\n",
      "        per_event_bfs /= self.samples_per_posterior\n",
      "        square_expectation = xp.mean(weights**2, axis=-1)\n",
      "        variance = (square_expectation - per_event_bfs**2) / (\n",
      "            self.samples_per_posterior * per_event_bfs**2\n",
      "        )\n",
      "        return per_event_bfs, n_effectives, variance\n",
      "\n"
     ]
    }
   ],
   "source": [
    "inspect_it(gwpop.likelihood.per_event_bayes_factors_and_n_effective_and_variances)"
   ]
  },
  {
   "cell_type": "code",
   "execution_count": 40,
   "id": "43f3d88f-0ca0-4fa4-b089-69be94893495",
   "metadata": {
    "tags": []
   },
   "outputs": [],
   "source": [
    "def create_likes():\n",
    "    gwpop = GWPopLoader(posterior_file = \"/Users/asadh/Documents/Data/posteriors.pkl\",\n",
    "                        prior_file = \"/Users/asadh/Documents/Data/production.prior\",\n",
    "                        vt_file = \"/Users/asadh/Downloads/o1+o2+o3_bbhpop_real+semianalytic-LIGO-T2100377-v2.hdf5\",\n",
    "                        enforce_minimum_neffective_per_event = \"injection_resampling_vt\")\n",
    "    gwpop.load_prior();\n",
    "    gwpop.load_model();\n",
    "    gwpop.load_vt();\n",
    "    gwpop.load_posteriors();\n",
    "    gwpop.create_likelihood();\n",
    "    gwpop = gwpop\n",
    "\n",
    "    SM = SmoothedTwoComponentPrimaryMassRatio(primary_mass_name='mass_1')\n",
    "    R = gravpop.PowerLawRedshift(z_max=1.9)\n",
    "\n",
    "    event_data = gwpop.likelihood.data.copy()\n",
    "    event_data['prior'] = gwpop.likelihood.sampling_prior\n",
    "    selection_data = {k:v for k,v in gwpop.selection.data.items()}\n",
    "\n",
    "    gravpop_likelihood = PopulationLikelihood(models=[SM,R], \n",
    "                                                   event_data=event_data,\n",
    "                                                   selection_data=selection_data,\n",
    "                                                   analysis_time=selection_data['analysis_time'],\n",
    "                                                   total_generated=selection_data['total_generated'])\n",
    "    \n",
    "    return gwpop.likelihood, gravpop_likelihood"
   ]
  },
  {
   "cell_type": "code",
   "execution_count": 41,
   "id": "96342562-f57c-44eb-9cbd-5ca3d2d8524d",
   "metadata": {
    "tags": []
   },
   "outputs": [
    {
     "name": "stderr",
     "output_type": "stream",
     "text": [
      "11:23 bilby INFO    : Using SmoothedMassDistribution.\n",
      "11:23 bilby INFO    : Created SmoothedMassDistribution with arguments {'mmin': 2, 'mmax': 100}\n",
      "11:23 bilby INFO    : Using PowerLawRedshift from gwpopulation.models.redshift.\n",
      "11:23 bilby INFO    : Created gwpopulation.models.redshift.PowerLawRedshift with arguments {'z_max': 1.9}\n",
      "11:23 bilby INFO    : Using SmoothedMassDistribution.\n",
      "11:23 bilby INFO    : Created SmoothedMassDistribution with arguments {'mmin': 2, 'mmax': 100}\n",
      "11:23 bilby INFO    : Using PowerLawRedshift from gwpopulation.models.redshift.\n",
      "11:23 bilby INFO    : Created gwpopulation.models.redshift.PowerLawRedshift with arguments {'z_max': 1.9}\n",
      "11:23 bilby INFO    : Loading VT data from /Users/asadh/Downloads/o1+o2+o3_bbhpop_real+semianalytic-LIGO-T2100377-v2.hdf5.\n"
     ]
    }
   ],
   "source": [
    "gwpop_likelihood, gravpop_likelihood = create_likes()"
   ]
  },
  {
   "cell_type": "code",
   "execution_count": 69,
   "id": "c5b8194d-7bc3-4b69-932d-90ae81baca90",
   "metadata": {
    "tags": []
   },
   "outputs": [
    {
     "data": {
      "text/plain": [
       "Array(316.88477, dtype=float32)"
      ]
     },
     "execution_count": 69,
     "metadata": {},
     "output_type": "execute_result"
    }
   ],
   "source": [
    "loglikes = gravpop_likelihood.sampled_compute_log_weights(gravpop_likelihood.event_data, param)\n",
    "per_events_log_bfs = jax.scipy.special.logsumexp(loglikes, axis=-1)\n",
    "jnp.min(jnp.exp(2*per_events_log_bfs - jax.scipy.special.logsumexp(2*loglikes, axis=-1)), axis=-1)"
   ]
  },
  {
   "cell_type": "code",
   "execution_count": 70,
   "id": "ec324ca6-0652-4d45-a037-aaefbcbab399",
   "metadata": {
    "tags": []
   },
   "outputs": [
    {
     "data": {
      "text/plain": [
       "Array(316.88474, dtype=float32)"
      ]
     },
     "execution_count": 70,
     "metadata": {},
     "output_type": "execute_result"
    }
   ],
   "source": [
    "gwpop_likelihood.parameters.update(param)\n",
    "jnp.min(gwpop_likelihood.per_event_bayes_factors_and_n_effective()[1], axis=-1)"
   ]
  },
  {
   "cell_type": "code",
   "execution_count": 68,
   "id": "12e993da-f4c1-4202-a1c9-eb1563d9f8cb",
   "metadata": {
    "tags": []
   },
   "outputs": [
    {
     "data": {
      "text/plain": [
       "Array(316.88477, dtype=float32)"
      ]
     },
     "execution_count": 68,
     "metadata": {},
     "output_type": "execute_result"
    }
   ],
   "source": [
    "gravpop_likelihood.compute_event_min_N_eff(gravpop_likelihood.sampled_compute_log_weights(gravpop_likelihood.event_data, param))[1]"
   ]
  },
  {
   "cell_type": "code",
   "execution_count": 49,
   "id": "12c86d65-559b-4938-a30d-73524cc35d3c",
   "metadata": {
    "tags": []
   },
   "outputs": [
    {
     "name": "stdout",
     "output_type": "stream",
     "text": [
      "    def per_event_bayes_factors_and_n_effective_and_variances(self):\n",
      "        \"\"\"\n",
      "        Called by `_compute_per_event_ln_bayes_factors` to compute the\n",
      "        per event BFs, effective number of samples for each event's computed\n",
      "        BF, and the associated uncertainty (variance) in the *ln* BF. Computes\n",
      "        same qunatities as superclass function `_compute_per_event_ln_bayes_factors`\n",
      "        but additionally provides the effective sample size.\n",
      "\n",
      "        Returns\n",
      "        -------\n",
      "        per_event_bfs: array-like\n",
      "            The BF per event, computed by reweighting single-event likelihood\n",
      "            samples into the `hyper_prior` model.\n",
      "        n_effectives: array-like\n",
      "            The effective sample size for each Monte Carlo sum computation of the BFs.\n",
      "            The BF is computed for each event, so this array has length n_events.\n",
      "        variance: array-like\n",
      "            The variances (uncertainties) in the ln BF per event.\n",
      "        \"\"\"\n",
      "        weights = self.hyper_prior.prob(self.data) / self.sampling_prior\n",
      "        per_event_bfs = xp.sum(weights, axis=-1)\n",
      "        n_effectives = xp.nan_to_num(per_event_bfs**2 / xp.sum(weights**2, axis=-1))\n",
      "        per_event_bfs /= self.samples_per_posterior\n",
      "        square_expectation = xp.mean(weights**2, axis=-1)\n",
      "        variance = (square_expectation - per_event_bfs**2) / (\n",
      "            self.samples_per_posterior * per_event_bfs**2\n",
      "        )\n",
      "        return per_event_bfs, n_effectives, variance\n",
      "\n"
     ]
    }
   ],
   "source": [
    "print(inspect.getsource(gwpop_likelihood.per_event_bayes_factors_and_n_effective_and_variances))"
   ]
  },
  {
   "cell_type": "code",
   "execution_count": 84,
   "id": "9a524e77-021e-4f46-9415-965cae256538",
   "metadata": {
    "tags": []
   },
   "outputs": [
    {
     "name": "stderr",
     "output_type": "stream",
     "text": [
      "10:30 bilby INFO    : Using SmoothedMassDistribution.\n",
      "10:30 bilby INFO    : Created SmoothedMassDistribution with arguments {'mmin': 2, 'mmax': 100}\n",
      "10:30 bilby INFO    : Using PowerLawRedshift from gwpopulation.models.redshift.\n",
      "10:30 bilby INFO    : Created gwpopulation.models.redshift.PowerLawRedshift with arguments {'z_max': 1.9}\n",
      "10:30 bilby INFO    : Using SmoothedMassDistribution.\n",
      "10:30 bilby INFO    : Created SmoothedMassDistribution with arguments {'mmin': 2, 'mmax': 100}\n",
      "10:30 bilby INFO    : Using PowerLawRedshift from gwpopulation.models.redshift.\n",
      "10:30 bilby INFO    : Created gwpopulation.models.redshift.PowerLawRedshift with arguments {'z_max': 1.9}\n",
      "10:30 bilby INFO    : Loading VT data from /Users/asadh/Downloads/o1+o2+o3_bbhpop_real+semianalytic-LIGO-T2100377-v2.hdf5.\n"
     ]
    }
   ],
   "source": [
    "TT = TestAgainstGWPop()"
   ]
  },
  {
   "cell_type": "code",
   "execution_count": 86,
   "id": "cc6a1ed8-5933-44c9-b115-e549b88fb8c7",
   "metadata": {
    "tags": []
   },
   "outputs": [
    {
     "data": {
      "text/plain": [
       "(Array([[-2.1898499, -7.691758 , -7.3970504, ..., -4.462355 , -8.406267 ,\n",
       "         -2.9077847],\n",
       "        [-4.6113043, -2.3372164, -2.0394418, ..., -2.739703 , -2.6363328,\n",
       "         -2.8727822],\n",
       "        [-4.872846 , -5.684493 , -2.4224682, ..., -7.483857 , -2.8173594,\n",
       "         -2.2414067],\n",
       "        ...,\n",
       "        [-7.0089455, -5.5191   , -6.0251784, ..., -6.349538 , -2.3583875,\n",
       "         -7.2968507],\n",
       "        [-7.1197686, -7.661855 , -6.9311028, ..., -7.0771847, -6.81681  ,\n",
       "         -7.7487793],\n",
       "        [-6.966433 , -8.15437  , -7.213766 , ..., -8.120122 , -6.625331 ,\n",
       "         -7.2415743]], dtype=float32),\n",
       " Array([[-2.1898499, -7.691758 , -7.3970504, ..., -4.4623556, -8.406267 ,\n",
       "         -2.907785 ],\n",
       "        [-4.6112967, -2.337211 , -2.0394115, ..., -2.7396796, -2.6363175,\n",
       "         -2.8727658],\n",
       "        [-4.872846 , -5.6844926, -2.422469 , ..., -7.4838567, -2.8173606,\n",
       "         -2.241407 ],\n",
       "        ...,\n",
       "        [-7.008945 , -5.519101 , -6.025175 , ..., -6.3495364, -2.3583872,\n",
       "         -7.2968507],\n",
       "        [-7.119768 , -7.6618547, -6.9311028, ..., -7.0771847, -6.81681  ,\n",
       "         -7.7487793],\n",
       "        [-6.966433 , -8.154369 , -7.2137666, ..., -8.120122 , -6.6253304,\n",
       "         -7.241574 ]], dtype=float32))"
      ]
     },
     "execution_count": 86,
     "metadata": {},
     "output_type": "execute_result"
    }
   ],
   "source": [
    "TT.evaluate_gwpop_mass_model_at(param2), TT.evaluate_gravpop_mass_model_at(param2)"
   ]
  },
  {
   "cell_type": "code",
   "execution_count": 87,
   "id": "0bafb2b3-50a5-49eb-a34f-983374f46d70",
   "metadata": {
    "tags": []
   },
   "outputs": [
    {
     "data": {
      "text/plain": [
       "(Array([[-2.1799593 , -2.8006506 , -2.566938  , ..., -2.2161548 ,\n",
       "         -2.5116687 , -2.3184078 ],\n",
       "        [-4.567558  , -5.1628027 , -5.044173  , ..., -4.0300617 ,\n",
       "         -3.988928  , -5.3443246 ],\n",
       "        [-3.0181527 , -3.338162  , -3.031524  , ..., -3.5369866 ,\n",
       "         -3.8482807 , -3.5539284 ],\n",
       "        ...,\n",
       "        [-0.8613874 , -0.44736767, -0.59904575, ..., -0.78943205,\n",
       "         -0.73386425, -2.0654087 ],\n",
       "        [-1.3912089 , -0.98895425, -0.4784534 , ..., -0.48603714,\n",
       "         -0.3195701 , -1.739254  ],\n",
       "        [-1.2963629 , -1.1313052 , -1.2221882 , ..., -1.0743494 ,\n",
       "         -2.0336516 , -1.3593014 ]], dtype=float32),\n",
       " Array([[-2.1799622 , -2.8006427 , -2.566935  , ..., -2.2161613 ,\n",
       "         -2.5116649 , -2.3183997 ],\n",
       "        [-4.567533  , -5.1624994 , -5.044373  , ..., -4.0301194 ,\n",
       "         -3.9889758 , -5.3444247 ],\n",
       "        [-3.0181713 , -3.3381958 , -3.0315144 , ..., -3.5370238 ,\n",
       "         -3.8482952 , -3.5538805 ],\n",
       "        ...,\n",
       "        [-0.86138743, -0.44736767, -0.59904593, ..., -0.7894319 ,\n",
       "         -0.73386395, -2.0654085 ],\n",
       "        [-1.3912082 , -0.98895425, -0.47845322, ..., -0.48603696,\n",
       "         -0.31957   , -1.739256  ],\n",
       "        [-1.2963626 , -1.1313052 , -1.222188  , ..., -1.0743494 ,\n",
       "         -2.0336566 , -1.359301  ]], dtype=float32))"
      ]
     },
     "execution_count": 87,
     "metadata": {},
     "output_type": "execute_result"
    }
   ],
   "source": [
    "TT.evaluate_gwpop_redshift_model_at(param2), TT.evaluate_gravpop_redshift_model_at(param2)"
   ]
  },
  {
   "cell_type": "code",
   "execution_count": 89,
   "id": "26082e7c-2d4e-40bb-88d1-72ca612be728",
   "metadata": {
    "tags": []
   },
   "outputs": [
    {
     "data": {
      "text/plain": [
       "Array([[ -8.190622 ,  -9.859154 ,  -8.221525 , ...,  -9.020756 ,\n",
       "         -9.535853 ,  -7.5524683],\n",
       "       [ -7.3783255,  -6.7408304,  -6.7934475, ...,  -7.004393 ,\n",
       "         -7.695133 ,  -7.7830615],\n",
       "       [ -7.325183 ,  -6.3512087,  -6.120516 , ...,  -5.560857 ,\n",
       "         -8.900072 ,  -6.2334127],\n",
       "       ...,\n",
       "       [ -9.058701 ,  -8.015263 ,  -8.422426 , ...,  -8.149716 ,\n",
       "         -8.106478 ,  -5.274376 ],\n",
       "       [ -9.268319 ,  -9.315601 ,  -8.2897835, ...,  -7.956595 ,\n",
       "         -8.730072 , -10.651072 ],\n",
       "       [ -9.449632 ,  -7.7705708, -10.128664 , ...,  -3.3224092,\n",
       "         -8.005751 ,  -5.1389556]], dtype=float32)"
      ]
     },
     "execution_count": 89,
     "metadata": {},
     "output_type": "execute_result"
    }
   ],
   "source": [
    "HL.sampled_compute_log_weights(HL.event_data, param2)"
   ]
  },
  {
   "cell_type": "code",
   "execution_count": 98,
   "id": "d29eb9d1-d4b0-4688-939c-1e9716fa1e22",
   "metadata": {
    "tags": []
   },
   "outputs": [
    {
     "data": {
      "text/plain": [
       "Array([[ -3.8342686 ,  -5.9112763 ,  -3.7089095 , ...,  -5.4233694 ,\n",
       "         -5.811838  ,  -3.7597425 ],\n",
       "       [  1.0770588 ,   1.1576973 ,   1.1903913 , ...,   1.6031827 ,\n",
       "          0.81036717,  -0.29446906],\n",
       "       [ -1.6835444 ,  -1.6131309 ,  -0.44074348, ...,  -0.07786553,\n",
       "         -3.464705  ,  -0.58891666],\n",
       "       ...,\n",
       "       [ -8.912923  ,  -6.3197107 ,  -7.2942734 , ...,  -7.9638057 ,\n",
       "         -6.504609  ,  -4.8025594 ],\n",
       "       [ -9.663024  ,  -9.059093  ,  -8.439956  , ...,  -8.537923  ,\n",
       "         -9.349231  , -11.157881  ],\n",
       "       [ -6.7942266 ,  -7.867073  ,  -5.998494  , ...,  -1.3149095 ,\n",
       "         -5.6662936 ,  -4.4511347 ]], dtype=float32)"
      ]
     },
     "execution_count": 98,
     "metadata": {},
     "output_type": "execute_result"
    }
   ],
   "source": [
    "gwpop.likelihood.hyper_prior.parameters.update(param2)\n",
    "jnp.log(gwpop.likelihood.hyper_prior.prob(gwpop.likelihood.data) / gwpop.likelihood.sampling_prior)"
   ]
  },
  {
   "cell_type": "code",
   "execution_count": 99,
   "id": "ab318dd7-bad4-4f5c-8727-c736eca2cc38",
   "metadata": {
    "tags": []
   },
   "outputs": [
    {
     "name": "stdout",
     "output_type": "stream",
     "text": [
      "    def sampled_compute_log_weights(self, data, params):\n",
      "        return sum(self.log(model(data, params)) for model in self.models) - self.log(data[\"prior\"])\n",
      "\n"
     ]
    }
   ],
   "source": [
    "inspect_it(HL.sampled_compute_log_weights)"
   ]
  },
  {
   "cell_type": "code",
   "execution_count": 100,
   "id": "13ee4ece-9b88-48b1-b43c-eede6d54730e",
   "metadata": {
    "tags": []
   },
   "outputs": [
    {
     "data": {
      "text/plain": [
       "array([[1.28251023e-02, 1.92957228e-02, 1.09695755e-02, ...,\n",
       "        2.73950808e-02, 2.41368212e-02, 2.25340048e-02],\n",
       "       [2.12729649e-04, 3.71298735e-04, 3.40915165e-04, ...,\n",
       "        1.82729075e-04, 2.02357305e-04, 5.59444278e-04],\n",
       "       [3.54709560e-03, 8.75548953e-03, 3.41424151e-03, ...,\n",
       "        4.15679010e-03, 4.35950220e-03, 3.53708253e-03],\n",
       "       ...,\n",
       "       [8.64349621e-01, 1.83497923e-01, 3.23630371e-01, ...,\n",
       "        8.30347215e-01, 2.01519575e-01, 6.23867147e-01],\n",
       "       [1.48394482e+00, 7.73748067e-01, 1.16203373e+00, ...,\n",
       "        1.78841057e+00, 1.85736544e+00, 1.65998656e+00],\n",
       "       [7.02701774e-02, 1.10131277e+00, 1.60801947e-02, ...,\n",
       "        1.34324059e-01, 9.63797480e-02, 5.02669659e-01]])"
      ]
     },
     "execution_count": 100,
     "metadata": {},
     "output_type": "execute_result"
    }
   ],
   "source": [
    "gwpop.likelihood.sampling_prior"
   ]
  },
  {
   "cell_type": "code",
   "execution_count": 102,
   "id": "02cb89e4-00b3-47b8-8aba-329e99d9cb8d",
   "metadata": {
    "tags": []
   },
   "outputs": [
    {
     "data": {
      "text/plain": [
       "Array([[1., 1., 1., ..., 1., 1., 1.],\n",
       "       [1., 1., 1., ..., 1., 1., 1.],\n",
       "       [1., 1., 1., ..., 1., 1., 1.],\n",
       "       ...,\n",
       "       [1., 1., 1., ..., 1., 1., 1.],\n",
       "       [1., 1., 1., ..., 1., 1., 1.],\n",
       "       [1., 1., 1., ..., 1., 1., 1.]], dtype=float32)"
      ]
     },
     "execution_count": 102,
     "metadata": {},
     "output_type": "execute_result"
    }
   ],
   "source": [
    "HL.event_data[\"prior\"]"
   ]
  },
  {
   "cell_type": "code",
   "execution_count": 76,
   "id": "4ea4170a-64ef-49ac-8dad-ac2ae1bc8380",
   "metadata": {
    "tags": []
   },
   "outputs": [
    {
     "data": {
      "text/plain": [
       "1"
      ]
     },
     "execution_count": 76,
     "metadata": {},
     "output_type": "execute_result"
    }
   ],
   "source": [
    "min([1,2,3,4])"
   ]
  },
  {
   "cell_type": "code",
   "execution_count": null,
   "id": "f1358451-a19b-4e61-9123-461a4bc1791e",
   "metadata": {},
   "outputs": [],
   "source": []
  }
 ],
 "metadata": {
  "kernelspec": {
   "display_name": "Python 3 (ipykernel)",
   "language": "python",
   "name": "python3"
  },
  "language_info": {
   "codemirror_mode": {
    "name": "ipython",
    "version": 3
   },
   "file_extension": ".py",
   "mimetype": "text/x-python",
   "name": "python",
   "nbconvert_exporter": "python",
   "pygments_lexer": "ipython3",
   "version": "3.11.8"
  }
 },
 "nbformat": 4,
 "nbformat_minor": 5
}
