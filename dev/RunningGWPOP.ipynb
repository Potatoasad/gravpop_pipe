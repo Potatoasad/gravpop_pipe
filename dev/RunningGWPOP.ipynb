{
 "cells": [
  {
   "cell_type": "code",
   "execution_count": 4,
   "id": "28518a87-1bcb-4732-9b26-914e8ed9e92e",
   "metadata": {
    "tags": []
   },
   "outputs": [
    {
     "name": "stderr",
     "output_type": "stream",
     "text": [
      "10:31 bilby INFO    : Using SmoothedMassDistribution.\n",
      "10:31 bilby INFO    : Created SmoothedMassDistribution with arguments {'mmin': 2, 'mmax': 100}\n",
      "10:31 bilby INFO    : Using iid_spin_magnitude.\n",
      "10:31 bilby INFO    : Using iid_spin_orientation.\n",
      "10:31 bilby INFO    : Using PowerLawRedshift from gwpopulation.models.redshift.\n",
      "10:31 bilby INFO    : Created gwpopulation.models.redshift.PowerLawRedshift with arguments {'z_max': 2.3}\n",
      "10:31 bilby INFO    : Using SmoothedMassDistribution.\n",
      "10:31 bilby INFO    : Created SmoothedMassDistribution with arguments {'mmin': 2, 'mmax': 100}\n",
      "10:31 bilby INFO    : Using iid_spin_magnitude.\n",
      "10:31 bilby INFO    : Using iid_spin_orientation.\n",
      "10:31 bilby INFO    : Using PowerLawRedshift from gwpopulation.models.redshift.\n",
      "10:31 bilby INFO    : Created gwpopulation.models.redshift.PowerLawRedshift with arguments {'z_max': 2.3}\n",
      "10:31 bilby INFO    : Loading VT data from /Users/asadh/Downloads/o1+o2+o3_bbhpop_real+semianalytic-LIGO-T2100377-v2.hdf5.\n"
     ]
    }
   ],
   "source": [
    "from gravpop import *\n",
    "from gravpop_pipe import *\n",
    "\n",
    "models = dict(\n",
    "                mass=\"SmoothedMassDistribution\",#\"two_component_primary_mass_ratio\",\n",
    "                mag=\"iid_spin_magnitude\",\n",
    "                tilt=\"iid_spin_orientation\",\n",
    "                redshift=\"gwpopulation.models.redshift.PowerLawRedshift\",\n",
    "            )\n",
    "gwpop = GWPopLoader(posterior_file = \"/Users/asadh/Documents/Data/posteriors.pkl\",\n",
    "                    prior_file = \"/Users/asadh/Documents/Data/true.prior\",\n",
    "                    vt_file = \"/Users/asadh/Downloads/o1+o2+o3_bbhpop_real+semianalytic-LIGO-T2100377-v2.hdf5\",\n",
    "                    enforce_minimum_neffective_per_event = \"injection_resampling_vt\",\n",
    "                    models = models, vt_models=models,\n",
    "                    max_redshift = 2.3, samples_per_posterior=5000)\n",
    "gwpop.load_prior();\n",
    "gwpop.load_model();\n",
    "gwpop.load_vt();\n",
    "gwpop.load_posteriors();\n",
    "gwpop.create_likelihood();"
   ]
  },
  {
   "cell_type": "code",
   "execution_count": 5,
   "id": "35a9d0d3-9526-4add-9c55-5fb36d3219e2",
   "metadata": {
    "tags": []
   },
   "outputs": [
    {
     "name": "stderr",
     "output_type": "stream",
     "text": [
      "10:31 bilby INFO    : Running for label 'blah', output will be saved to '.'\n",
      "10:31 bilby INFO    : Analysis priors:\n",
      "10:31 bilby INFO    : alpha=Uniform(minimum=-4, maximum=12, name='alpha', latex_label='$\\\\alpha$', unit=None, boundary=None)\n",
      "10:31 bilby INFO    : beta=Uniform(minimum=-2, maximum=7, name='beta', latex_label='$\\\\beta_{q}$', unit=None, boundary=None)\n",
      "10:31 bilby INFO    : mmax=Uniform(minimum=30, maximum=100, name='mmax', latex_label='$m_{\\\\max}$', unit=None, boundary=None)\n",
      "10:31 bilby INFO    : mmin=Uniform(minimum=2, maximum=10, name='mmin', latex_label='$m_{\\\\min}$', unit=None, boundary=None)\n",
      "10:31 bilby INFO    : lam=Uniform(minimum=0, maximum=1, name='lambda', latex_label='$\\\\lambda_{m}$', unit=None, boundary=None)\n",
      "10:31 bilby INFO    : mpp=Uniform(minimum=20, maximum=50, name='mpp', latex_label='$\\\\mu_{m}$', unit=None, boundary=None)\n",
      "10:31 bilby INFO    : sigpp=Uniform(minimum=1, maximum=10, name='sigpp', latex_label='$\\\\sigma_{m}$', unit=None, boundary=None)\n",
      "10:31 bilby INFO    : delta_m=Uniform(minimum=0, maximum=10, name='delta_m', latex_label='$\\\\delta_{m}$', unit=None, boundary='reflective')\n",
      "10:31 bilby INFO    : amax=Uniform(minimum=0.9999, maximum=1, name='amax', latex_label='$a_{\\\\max}$', unit=None, boundary=None)\n",
      "10:31 bilby INFO    : mu_chi=Uniform(minimum=0, maximum=1, name='mu_chi', latex_label='$\\\\mu_{\\\\chi}$', unit=None, boundary=None)\n",
      "10:31 bilby INFO    : sigma_chi=Uniform(minimum=0.005, maximum=0.25, name='sigma_chi', latex_label='$\\\\sigma^{2}_{\\\\chi}$', unit=None, boundary=None)\n",
      "10:31 bilby INFO    : xi_spin=Uniform(minimum=0, maximum=1, name='xi_spin', latex_label='$\\\\zeta$', unit=None, boundary=None)\n",
      "10:31 bilby INFO    : sigma_spin=Uniform(minimum=0.1, maximum=4.0, name='sigma_t', latex_label='$\\\\sigma_t$', unit=None, boundary=None)\n",
      "10:31 bilby INFO    : lamb=Uniform(minimum=-10, maximum=10, name='lamb', latex_label='$\\\\lambda_z$', unit=None, boundary=None)\n",
      "10:31 bilby INFO    : alpha_chi=Constraint(minimum=1, maximum=100000.0, name=None, latex_label=None, unit=None)\n",
      "10:31 bilby INFO    : beta_chi=Constraint(minimum=1, maximum=100000.0, name=None, latex_label=None, unit=None)\n",
      "10:31 bilby INFO    : Analysis likelihood class: <class 'gwpopulation_pipe.utils.MinimumEffectiveSamplesLikelihood'>\n",
      "10:31 bilby INFO    : Analysis likelihood noise evidence: nan\n",
      "/Users/asadh/anaconda3/lib/python3.11/site-packages/gwpopulation/utils.py:87: RuntimeWarning: invalid value encountered in log\n",
      "  ln_beta = (alpha - 1) * xp.log(xx) + (beta - 1) * xp.log(scale - xx)\n",
      "/Users/asadh/Documents/GitHub/gwpopulation_pipe/gwpopulation_pipe/utils.py:88: RuntimeWarning: divide by zero encountered in log\n",
      "  return xp.log(per_event_bfs), variance\n",
      "/Users/asadh/Documents/GitHub/gwpopulation_pipe/gwpopulation_pipe/utils.py:113: RuntimeWarning: invalid value encountered in divide\n",
      "  n_effectives = xp.nan_to_num(per_event_bfs**2 / xp.sum(weights**2, axis=-1))\n",
      "/Users/asadh/Documents/GitHub/gwpopulation_pipe/gwpopulation_pipe/utils.py:116: RuntimeWarning: invalid value encountered in divide\n",
      "  variance = (square_expectation - per_event_bfs**2) / (\n",
      "10:31 bilby INFO    : Single likelihood evaluation took 1.125e-01 s\n",
      "10:31 bilby INFO    : Using sampler Dynesty with kwargs {'nlive': 500, 'bound': 'live', 'sample': 'act-walk', 'periodic': None, 'reflective': None, 'update_interval': 600, 'first_update': None, 'npdim': None, 'rstate': None, 'queue_size': 1, 'pool': None, 'use_pool': None, 'live_points': None, 'logl_args': None, 'logl_kwargs': None, 'ptform_args': None, 'ptform_kwargs': None, 'gradient': None, 'grad_args': None, 'grad_kwargs': None, 'compute_jac': False, 'enlarge': None, 'bootstrap': None, 'walks': 100, 'facc': 0.2, 'slices': None, 'fmove': 0.9, 'max_move': 100, 'update_func': None, 'ncdim': None, 'blob': False, 'save_history': False, 'history_filename': None, 'maxiter': None, 'maxcall': None, 'dlogz': 0.1, 'logl_max': inf, 'n_effective': None, 'add_live': True, 'print_progress': True, 'print_func': <bound method Dynesty._print_func of <bilby.core.sampler.dynesty.Dynesty object at 0x2974a6d10>>, 'save_bounds': False, 'checkpoint_file': None, 'checkpoint_every': 60, 'resume': False, 'seed': None}\n",
      "10:31 bilby INFO    : Checkpoint every check_point_delta_t = 600s\n",
      "10:31 bilby INFO    : Using dynesty version 2.1.3\n",
      "10:31 bilby INFO    : Using the bilby-implemented act-walk sampling tracking the autocorrelation function and thinning by 2 with maximum length 10000\n",
      "10:31 bilby INFO    : Resume file ./blah_resume.pickle does not exist.\n",
      "10:31 bilby INFO    : Generating initial points from the prior\n",
      "/Users/asadh/Documents/GitHub/gwpopulation_pipe/gwpopulation_pipe/utils.py:116: RuntimeWarning: divide by zero encountered in divide\n",
      "  variance = (square_expectation - per_event_bfs**2) / (\n",
      "16:54 bilby INFO    : Run interrupted by signal 2: checkpoint and exit on 130\n"
     ]
    },
    {
     "ename": "SystemExit",
     "evalue": "130",
     "output_type": "error",
     "traceback": [
      "An exception has occurred, use %tb to see the full traceback.\n",
      "\u001b[0;31mSystemExit\u001b[0m\u001b[0;31m:\u001b[0m 130\n"
     ]
    },
    {
     "name": "stderr",
     "output_type": "stream",
     "text": [
      "/Users/asadh/anaconda3/lib/python3.11/site-packages/IPython/core/interactiveshell.py:3534: UserWarning: To exit: use 'exit', 'quit', or Ctrl-D.\n",
      "  warn(\"To exit: use 'exit', 'quit', or Ctrl-D.\", stacklevel=1)\n"
     ]
    }
   ],
   "source": [
    "from bilby import run_sampler\n",
    "\n",
    "result = run_sampler(\n",
    "        likelihood=gwpop.likelihood,\n",
    "        priors=gwpop.prior,\n",
    "        label=\"blah\",\n",
    "        outdir=\".\",\n",
    "        save=\"hdf5\",\n",
    "        sampler='dynesty',\n",
    "        conversion_function=gwpop.prior.conversion_function\n",
    "    )"
   ]
  },
  {
   "cell_type": "code",
   "execution_count": null,
   "id": "818dc20e-6e71-48fe-b65d-776ba396be88",
   "metadata": {},
   "outputs": [],
   "source": []
  }
 ],
 "metadata": {
  "kernelspec": {
   "display_name": "Python 3 (ipykernel)",
   "language": "python",
   "name": "python3"
  },
  "language_info": {
   "codemirror_mode": {
    "name": "ipython",
    "version": 3
   },
   "file_extension": ".py",
   "mimetype": "text/x-python",
   "name": "python",
   "nbconvert_exporter": "python",
   "pygments_lexer": "ipython3",
   "version": "3.11.8"
  }
 },
 "nbformat": 4,
 "nbformat_minor": 5
}
